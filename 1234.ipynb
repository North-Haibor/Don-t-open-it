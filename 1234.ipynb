{
 "cells": [
  {
   "cell_type": "code",
   "execution_count": 3,
   "metadata": {},
   "outputs": [],
   "source": [
    "import requests\n",
    "from lxml import etree\n",
    "a = 0\n",
    "header = {'User-Agent': 'Mozilla/5.0 (Macintosh; Intel Mac OS X 10_13_4) AppleWebKit/537.36 (KHTML, like Gecko) Chrome/67.0.3396.79 Safari/537.36'}\n",
    "response = requests.get('http://www.17k.com/list/2822387.html',headers=header)\n",
    "tree = etree.HTML(response.text)\n",
    "book = tree.xpath('//div[@class=\"Main List\"]/dl[@class=\"Volume\"][1]/dd/a')\n",
    "for i in book:\n",
    "    zz = i.xpath('./@href')[0]\n",
    "    ww = requests.get('http://www.17k.com'+zz)\n",
    "    a = a+1\n",
    "    tree2 = etree.HTML(ww.text)\n",
    "    c = tree2.xpath('//body/div[@class=\"area\"]/div[@class=\"read\"]/div[2]/div[1]/div[@class=\"p\"]/text()')\n",
    "    b = str(c)\n",
    "    with open('/Users/w1203865668/Desktop/Untitled Folder'+str(a)+'.txt','w',encoding='utf-8') as f:\n",
    "        f.write(b)\n",
    "    "
   ]
  },
  {
   "cell_type": "code",
   "execution_count": null,
   "metadata": {},
   "outputs": [],
   "source": []
  }
 ],
 "metadata": {
  "kernelspec": {
   "display_name": "Python 3",
   "language": "python",
   "name": "python3"
  },
  "language_info": {
   "codemirror_mode": {
    "name": "ipython",
    "version": 3
   },
   "file_extension": ".py",
   "mimetype": "text/x-python",
   "name": "python",
   "nbconvert_exporter": "python",
   "pygments_lexer": "ipython3",
   "version": "3.6.4"
  }
 },
 "nbformat": 4,
 "nbformat_minor": 2
}
