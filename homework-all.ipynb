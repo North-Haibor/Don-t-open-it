{
 "cells": [
  {
   "cell_type": "code",
   "execution_count": 6,
   "metadata": {},
   "outputs": [
    {
     "name": "stdout",
     "output_type": "stream",
     "text": [
      "    1     5    12    22    35    51    70    92   117   145 \n",
      "  176   210   247   287   330   376   425   477   532   590 \n",
      "  651   715   782   852   925  1001  1080  1162  1247  1335 \n",
      " 1426  1520  1617  1717  1820  1926  2035  2147  2262  2380 \n",
      " 2501  2625  2752  2882  3015  3151  3290  3432  3577  3725 \n",
      " 3876  4030  4187  4347  4510  4676  4845  5017  5192  5370 \n",
      " 5551  5735  5922  6112  6305  6501  6700  6902  7107  7315 \n",
      " 7526  7740  7957  8177  8400  8626  8855  9087  9322  9560 \n",
      " 9801 10045 10292 10542 10795 11051 11310 11572 11837 12105 \n",
      "12376 12650 12927 13207 13490 13776 14065 14357 14652 14950 \n"
     ]
    }
   ],
   "source": [
    "###day001第一题\n",
    "for i in range(1,101):  #i循环一百次，从1到100依次赋值\n",
    "    a = i*(3*i-1)/2 #五角数公式\n",
    "    print('%5d' % a, end=' ')  #'%3d' % a 将a以整数形式输出，%5d以5位整数输出，当整数不足5位时，在左侧以空格补齐；end不换行输出\n",
    "    if(i % 10 == 0):  #判断，i与10取余，为零时换行\n",
    "        print(\"\")  #换行输出"
   ]
  },
  {
   "cell_type": "code",
   "execution_count": 7,
   "metadata": {},
   "outputs": [
    {
     "name": "stdout",
     "output_type": "stream",
     "text": [
      "123 每位数相加之和是: 6\n"
     ]
    }
   ],
   "source": [
    "###day001第二题\n",
    "def nnn(num):\n",
    "    return sum(int(i) for i in str(num) if i.isdigit())\n",
    "     \n",
    "if __name__ == '__main__':\n",
    "    num = input('请输入一个整数: ')\n",
    "    print('{} 每位数相加之和是: {}'.format(num, nnn(num)))"
   ]
  },
  {
   "cell_type": "code",
   "execution_count": 8,
   "metadata": {},
   "outputs": [
    {
     "name": "stdout",
     "output_type": "stream",
     "text": [
      "输入的三个整数为: 123 56 97\n",
      "升序排列: 56 97 123\n"
     ]
    }
   ],
   "source": [
    "###day001第三题\n",
    "def number(num01,num02,num03):\n",
    "    print('输入的三个整数为:',num01  ,num02  , num03)\n",
    "    if num01>num02:\n",
    "        if num02>num03:\n",
    "            print('升序排列:',num03 ,num02 ,  num01)\n",
    "        else:\n",
    "            if num01>num03:\n",
    "                print('升序排列:',num02 , num03 ,  num01)\n",
    "            else:\n",
    "                print('升序排列:',num02 , num01 ,  num03)\n",
    "    else:\n",
    "        if num01>num03:\n",
    "            print('升序排列:',num03 , num01 ,  num02)\n",
    "        else:\n",
    "            if num02>num03:\n",
    "                print('升序排列:',num01 , num03 , num02)\n",
    "            else:\n",
    "                print('升序排列:',num01 , num02 , num03)\n",
    "number(123,56,97)"
   ]
  },
  {
   "cell_type": "code",
   "execution_count": 9,
   "metadata": {},
   "outputs": [
    {
     "name": "stdout",
     "output_type": "stream",
     "text": [
      "[54, 89, 234]\n"
     ]
    }
   ],
   "source": [
    "###day001第三题\n",
    "def number(num01,num02,num03):\n",
    "    res = [num01,num02,num03]\n",
    "    res.sort()\n",
    "    print(res)\n",
    "number(234,54,89)"
   ]
  },
  {
   "cell_type": "code",
   "execution_count": 33,
   "metadata": {},
   "outputs": [
    {
     "name": "stdout",
     "output_type": "stream",
     "text": [
      "1 10900.0\n",
      "2 11881.0\n",
      "3 12950.29\n",
      "4 14115.8161\n",
      "5 15386.239549\n",
      "6 16771.00110841\n",
      "7 18280.3912081669\n",
      "8 19925.62641690192\n",
      "9 21718.932794423094\n",
      "10 23673.636745921172\n",
      "11 25804.264053054078\n",
      "12 28126.647817828944\n",
      "13 30658.04612143355\n",
      "14 33417.27027236257\n",
      "15 36424.8245968752\n",
      "16 39703.05881059397\n",
      "17 43276.33410354742\n",
      "18 47171.20417286669\n",
      "19 51416.61254842469\n",
      "20 56044.10767778291\n",
      "21 61088.07736878337\n",
      "22 66586.00433197388\n",
      "23 72578.74472185153\n",
      "24 79110.83174681816\n",
      "25 86230.8066040318\n",
      "26 93991.57919839465\n",
      "27 102450.82132625018\n",
      "28 111671.3952456127\n",
      "29 121721.82081771785\n",
      "30 132676.78469131247\n"
     ]
    }
   ],
   "source": [
    "###day001第四题\n",
    "def futureInvestmentValue(bj,ll,years):\n",
    "    years = years+1\n",
    "    for i in range(1,years):\n",
    "        sy = bj + bj*ll\n",
    "        print(i,sy)\n",
    "        bj=sy\n",
    "        \n",
    "futureInvestmentValue(10000,0.09,30)\n"
   ]
  },
  {
   "cell_type": "code",
   "execution_count": 10,
   "metadata": {},
   "outputs": [
    {
     "name": "stdout",
     "output_type": "stream",
     "text": [
      "1 2 3 4 5 6 7 8 9 :\n",
      "; < = > ? @ A B C D\n",
      "E F G H I J K L M N\n",
      "O P Q R S T U V W X\n",
      "Y Z "
     ]
    }
   ],
   "source": [
    "###day001第五题\n",
    "m = 0\n",
    "for i in range(49,91):\n",
    "    m = m+1\n",
    "    if m % 10 != 0:\n",
    "        print(chr(i),end=' ')\n",
    "    else:\n",
    "        print(chr(i))\n",
    "        "
   ]
  },
  {
   "cell_type": "code",
   "execution_count": 11,
   "metadata": {},
   "outputs": [
    {
     "name": "stdout",
     "output_type": "stream",
     "text": [
      "2019 本年度共有365天\n"
     ]
    }
   ],
   "source": [
    "###day001第六题\n",
    "def hahaha(a):\n",
    "    if a%4 == 0:\n",
    "        if a%100 != 0:\n",
    "            print('本年度共有366天')\n",
    "        else:\n",
    "            print('本年度共有365天')\n",
    "    else:\n",
    "        print(a,'本年度共有365天')\n",
    "hahaha(2019)"
   ]
  },
  {
   "cell_type": "code",
   "execution_count": 12,
   "metadata": {},
   "outputs": [
    {
     "name": "stdout",
     "output_type": "stream",
     "text": [
      "13.038404810405298\n"
     ]
    }
   ],
   "source": [
    "###day001第七题\n",
    "import math\n",
    "def lalala(x1,x2,y1,y2):\n",
    "    a = (x1+x2) ** 2 + (y1+y2) ** 2\n",
    "    b = math.sqrt(a)\n",
    "    print(b)\n",
    "lalala(3,4,5,6)"
   ]
  },
  {
   "cell_type": "code",
   "execution_count": null,
   "metadata": {},
   "outputs": [],
   "source": [
    "###day001第八题"
   ]
  },
  {
   "cell_type": "code",
   "execution_count": 13,
   "metadata": {},
   "outputs": [
    {
     "name": "stdout",
     "output_type": "stream",
     "text": [
      "毫秒数： 1565177670.806776\n",
      "当前时间：  2019.08.07 19:34:30 \n"
     ]
    }
   ],
   "source": [
    "###day001第九题\n",
    "import time\n",
    "a=time.time()\n",
    "print('毫秒数：',a)\n",
    "print(\"当前时间： \",time.strftime('%Y.%m.%d %H:%M:%S ',time.localtime(time.time())))"
   ]
  },
  {
   "cell_type": "code",
   "execution_count": 14,
   "metadata": {},
   "outputs": [
    {
     "name": "stdout",
     "output_type": "stream",
     "text": [
      "欢迎来到掷骰子游戏\n",
      "输入  掷骰子  开始游戏\n",
      "第一个骰子点数为： 3\n",
      "第二个骰子点数为： 3\n",
      "两个骰子点数之和为： 6\n",
      "输入  掷骰子  继续游戏\n",
      "第一个骰子点数为： 5\n",
      "第二个骰子点数为： 3\n",
      "两个骰子点数之和为： 8\n",
      "平局\n"
     ]
    }
   ],
   "source": [
    "###day001第十题\n",
    "import numpy as np\n",
    "print('欢迎来到掷骰子游戏')\n",
    "class zzz(object):\n",
    "    def ttt(self):\n",
    "        print('输入  掷骰子  开始游戏')\n",
    "        s = input('>>>')\n",
    "        a = np.random.choice([1,2,3,4,5,6])\n",
    "        b = np.random.choice([1,2,3,4,5,6])\n",
    "        p = a+b\n",
    "        print('第一个骰子点数为：',a)\n",
    "        print('第二个骰子点数为：',b)\n",
    "        print('两个骰子点数之和为：',p)\n",
    "        if a+b==2 and a+b==3 and a+b==12:\n",
    "            print('恭喜您，您赢了！')\n",
    "        elif a+b==7 and a+b==11:\n",
    "            print('很遗憾，您输了！')\n",
    "        else:\n",
    "                print('输入  掷骰子  继续游戏')\n",
    "                x = input('>>>')\n",
    "                c = np.random.choice([1,2,3,4,5,6])\n",
    "                d = np.random.choice([1,2,3,4,5,6])\n",
    "                q = c+d\n",
    "                print('第一个骰子点数为：',c)\n",
    "                print('第二个骰子点数为：',d)\n",
    "                print('两个骰子点数之和为：',q)\n",
    "                if c+d==7 and c+d==a+b:\n",
    "                    if c+d==7:\n",
    "                        print('很遗憾，您输了！')\n",
    "                    else:\n",
    "                        print('恭喜您，您赢了！')\n",
    "                    \n",
    "                else:\n",
    "                        print('平局')\n",
    "            \n",
    "            \n",
    "        \n",
    "        \n",
    "        \n",
    "        \n",
    "\n",
    "oppo=zzz()\n",
    "oppo.ttt()"
   ]
  },
  {
   "cell_type": "code",
   "execution_count": 15,
   "metadata": {},
   "outputs": [
    {
     "name": "stdout",
     "output_type": "stream",
     "text": [
      "欢迎来到王者荣耀\n",
      "可选择模式：人机模式  匹配模式  排位模式\n",
      "排位模式\n",
      "可选择英雄：典韦  赵云  鲁班\n",
      "赵云--攻击：1000     防御：5000\n",
      "敌方选择\n",
      "赵云--攻击：1000     防御：5000\n",
      "请选择：开始游戏 退出游戏\n",
      "载入游戏中，请稍后...\n"
     ]
    }
   ],
   "source": [
    "###day001王者荣耀\n",
    "print('欢迎来到王者荣耀')  #打印“欢迎来到王者荣耀”\n",
    "import time  #引入包\n",
    "import numpy as np  #引入包\n",
    "class www(object):  \n",
    "    def __init__(self):  #定义\n",
    "        print('可选择模式：人机模式  匹配模式  排位模式')  #打印括号内内容\n",
    "        a = input('>>>')  #输入框\n",
    "        print(a)  #打印括号内内容\n",
    "    def zzz(self):\n",
    "        print('可选择英雄：典韦  赵云  鲁班')  #打印括号内内容\n",
    "        b = input('>>>')  #输入框\n",
    "        if b == ('典韦'):  #if语句\n",
    "            print('典韦--攻击：100     防御：20000')  #打印括号内内容\n",
    "        elif b == ('赵云'):\n",
    "            print('赵云--攻击：1000     防御：5000')  #打印括号内内容\n",
    "        elif b == ('鲁班'):\n",
    "            print('鲁班--攻击：1500     防御：2000')  #打印括号内内容\n",
    "        else:\n",
    "            print('系统出错，请重试')  #打印括号内内容\n",
    "            \n",
    "        print('敌方选择')  #打印括号内内容        \n",
    "        c = np.random.choice(['典韦--攻击：100     防御：20000','赵云--攻击：1000     防御：5000','鲁班--攻击：1500     防御：2000'])\n",
    "        #随机选择括号内''内内容\n",
    "        print(c)  #打印括号内内容\n",
    "        \n",
    "    def rrr(self):  #定义\n",
    "        print('请选择：开始游戏 退出游戏')  #打印括号内内容\n",
    "        d = input('>>>')  #输入框\n",
    "        if d == ('开始游戏'):  #if语句\n",
    "            print('载入游戏中，请稍后...')  #打印括号内内容\n",
    "            for i in range(1,101):  #循环一百次，从1到100依次赋值\n",
    "                time.sleep(0.1)  #0.1s运行一次\n",
    "                print('%s%d%% \\r'%('>'*i,i),end='',flush=True)  #打印括号内内容\n",
    "        else:\n",
    "            print('系统出错，请重试')  #打印括号内内容\n",
    "        \n",
    "    \n",
    "oppo=www()\n",
    "oppo.zzz()\n",
    "oppo.rrr()"
   ]
  },
  {
   "cell_type": "code",
   "execution_count": 4,
   "metadata": {},
   "outputs": [
    {
     "name": "stdout",
     "output_type": "stream",
     "text": [
      "矩形的宽为： 1\n",
      "矩形的高为： 2\n",
      "矩形的面积为： 2\n",
      "矩形的周长为： 6\n"
     ]
    }
   ],
   "source": [
    "###day002第一题\n",
    "class dyt(object):\n",
    "    def __init__(self,width,height):\n",
    "        area = width * height\n",
    "        perimeter = 2 * (width + height)\n",
    "        print('矩形的宽为：',width)\n",
    "        print('矩形的高为：',height)\n",
    "        print('矩形的面积为：',area)\n",
    "        print('矩形的周长为：',perimeter)\n",
    "        \n",
    "ll=dyt(1,2)"
   ]
  },
  {
   "cell_type": "code",
   "execution_count": 5,
   "metadata": {},
   "outputs": [
    {
     "name": "stdout",
     "output_type": "stream",
     "text": [
      "请登录账户ID\n",
      "登录成功\n",
      "账户余额为：$20000.000    年息为：$900.000\n",
      "您可输入0取出$2500.000\n",
      "您可输入1存入$3000.000\n",
      "存入成功！账户余额为$23000.000\n",
      "月利率为：0.375%\n",
      "月利息为：$86.250\n"
     ]
    }
   ],
   "source": [
    "###day002第二题\n",
    "class det(object):    \n",
    "    def ssb(self):\n",
    "        print('请登录账户ID')\n",
    "        \n",
    "        id = 1122\n",
    "        for _ in range(3):\n",
    "            a = int(input('ID：'))\n",
    "            if a == id:\n",
    "                print('登录成功')\n",
    "                oo.ssd()\n",
    "                break\n",
    "            else:\n",
    "                print('账户不存在，请重试')\n",
    "                \n",
    "    def ssd(self):\n",
    "        print('账户余额为：$20000.000    年息为：$900.000')\n",
    "        print('您可输入0取出$2500.000')\n",
    "        print('您可输入1存入$3000.000')\n",
    "        \n",
    "        b = int(input('请选择0或1'))\n",
    "        if b == 0:\n",
    "            print('取出成功！账户余额为$17500.000')\n",
    "            print('月利率为：0.375%')\n",
    "            print('月利息为：$65.625')\n",
    "            \n",
    "        elif b == 1:\n",
    "            print('存入成功！账户余额为$23000.000')\n",
    "            print('月利率为：0.375%')\n",
    "            print('月利息为：$86.250')\n",
    "                \n",
    "        else:\n",
    "            print('非法操作!请重试')\n",
    "                \n",
    "                \n",
    "                                              \n",
    "oo = det()\n",
    "oo.ssb()"
   ]
  },
  {
   "cell_type": "code",
   "execution_count": 19,
   "metadata": {},
   "outputs": [
    {
     "name": "stdout",
     "output_type": "stream",
     "text": [
      "FAST False 10 yellow\n",
      "MEDIUM True 5 blue\n"
     ]
    }
   ],
   "source": [
    "###day002第三题\n",
    "class Fan(object):\n",
    "    def fs(self,speed,on,radius,color):\n",
    "        self.__speed=speed\n",
    "        self.__on=on\n",
    "        self.__radius=radius\n",
    "        self.__color=color\n",
    "    def re(self):\n",
    "        if self.__speed==1:\n",
    "            a='SLOW'\n",
    "        elif self.__speed==2:\n",
    "            a='MEDIUM'\n",
    "        else:\n",
    "            a='FAST'\n",
    "        print(a,self.__on,self.__radius,self.__color)\n",
    "kq=Fan()\n",
    "kq.fs(3,False,10,'yellow')\n",
    "kq.re()\n",
    "kq.fs(2,True,5,'blue')\n",
    "kq.re()\n",
    "        "
   ]
  },
  {
   "cell_type": "code",
   "execution_count": 28,
   "metadata": {},
   "outputs": [
    {
     "name": "stdout",
     "output_type": "stream",
     "text": [
      "多边形的周长为： 40\n",
      "多边形的面积为： 46.16525305762881\n"
     ]
    }
   ],
   "source": [
    "###day002第四题\n",
    "import math\n",
    "class RegularPolygon(object):\n",
    "    def __init__(self):\n",
    "        self.__n=3\n",
    "        self.__side=1\n",
    "        self.__x=0\n",
    "        self.__y=0\n",
    "    def zdy(self,n,side,x,y):\n",
    "        self.__n=n\n",
    "        self.__side=side\n",
    "        self.__x=x\n",
    "        self.__y=y\n",
    "        getPerimeter=self.__n * self.__side\n",
    "        getArea=(((self.__side)^2) * self.__n)/(4*(math.tan(math.pi/self.__n)))\n",
    "        print('多边形的周长为：',getPerimeter)\n",
    "        print('多边形的面积为：',getArea)\n",
    "        \n",
    "        \n",
    "la=RegularPolygon()\n",
    "la.zdy(10,4,5.6,7.8)\n",
    "#la=RegularPolygon()\n",
    "#la.zdy()\n",
    "#la=RegularPolygon()\n",
    "#la.zdy()"
   ]
  },
  {
   "cell_type": "code",
   "execution_count": 30,
   "metadata": {},
   "outputs": [
    {
     "name": "stdout",
     "output_type": "stream",
     "text": [
      "方程的解为：x = -4.0 y = 4.5\n"
     ]
    }
   ],
   "source": [
    "###day002第五题\n",
    "class LinearEquation(object):\n",
    "    def hehe(self,a,b,c,d,e,f):\n",
    "        x = (e*d - b*f)/(a*d - b*c)\n",
    "        y = (a*f - e*c)/(a*d - b*c)\n",
    "        e = a*x + b*y\n",
    "        f = c*x + d*y \n",
    "        z = a*d - b*c\n",
    "        if z==0:\n",
    "            print('这个方程无解')\n",
    "        else:\n",
    "            print('方程的解为：x =',x,'y =',y)\n",
    "qq=LinearEquation()\n",
    "qq.hehe(1,2,3,4,5,6)"
   ]
  },
  {
   "cell_type": "code",
   "execution_count": null,
   "metadata": {},
   "outputs": [],
   "source": [
    "###day002第六题\n"
   ]
  },
  {
   "cell_type": "code",
   "execution_count": 31,
   "metadata": {},
   "outputs": [
    {
     "name": "stdout",
     "output_type": "stream",
     "text": [
      "方程的解为：x = -4.0 y = 4.5\n"
     ]
    }
   ],
   "source": [
    "###day002第七题\n",
    "###day002第五题\n",
    "class LinearEquation(object):\n",
    "    def hehe(self,a,b,c,d,e,f):\n",
    "        x = (e*d - b*f)/(a*d - b*c)\n",
    "        y = (a*f - e*c)/(a*d - b*c)\n",
    "        e = a*x + b*y\n",
    "        f = c*x + d*y \n",
    "        z = a*d - b*c\n",
    "        if z==0:\n",
    "            print('这个方程无解')\n",
    "        else:\n",
    "            print('方程的解为：x =',x,'y =',y)\n",
    "qq=LinearEquation()\n",
    "qq.hehe(1,2,3,4,5,6)"
   ]
  },
  {
   "cell_type": "code",
   "execution_count": null,
   "metadata": {},
   "outputs": [],
   "source": []
  }
 ],
 "metadata": {
  "kernelspec": {
   "display_name": "Python 3",
   "language": "python",
   "name": "python3"
  },
  "language_info": {
   "codemirror_mode": {
    "name": "ipython",
    "version": 3
   },
   "file_extension": ".py",
   "mimetype": "text/x-python",
   "name": "python",
   "nbconvert_exporter": "python",
   "pygments_lexer": "ipython3",
   "version": "3.6.4"
  }
 },
 "nbformat": 4,
 "nbformat_minor": 2
}
