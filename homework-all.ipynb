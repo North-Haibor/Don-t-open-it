{
 "cells": [
  {
   "cell_type": "code",
   "execution_count": 6,
   "metadata": {},
   "outputs": [
    {
     "name": "stdout",
     "output_type": "stream",
     "text": [
      "    1     5    12    22    35    51    70    92   117   145 \n",
      "  176   210   247   287   330   376   425   477   532   590 \n",
      "  651   715   782   852   925  1001  1080  1162  1247  1335 \n",
      " 1426  1520  1617  1717  1820  1926  2035  2147  2262  2380 \n",
      " 2501  2625  2752  2882  3015  3151  3290  3432  3577  3725 \n",
      " 3876  4030  4187  4347  4510  4676  4845  5017  5192  5370 \n",
      " 5551  5735  5922  6112  6305  6501  6700  6902  7107  7315 \n",
      " 7526  7740  7957  8177  8400  8626  8855  9087  9322  9560 \n",
      " 9801 10045 10292 10542 10795 11051 11310 11572 11837 12105 \n",
      "12376 12650 12927 13207 13490 13776 14065 14357 14652 14950 \n"
     ]
    }
   ],
   "source": [
    "###day001第一题\n",
    "for i in range(1,101):  #i循环一百次，从1到100依次赋值\n",
    "    a = i*(3*i-1)/2 #五角数公式\n",
    "    print('%5d' % a, end=' ')  #'%3d' % a 将a以整数形式输出，%5d以5位整数输出，当整数不足5位时，在左侧以空格补齐；end不换行输出\n",
    "    if(i % 10 == 0):  #判断，i与10取余，为零时换行\n",
    "        print(\"\")  #换行输出"
   ]
  },
  {
   "cell_type": "code",
   "execution_count": 7,
   "metadata": {},
   "outputs": [
    {
     "name": "stdout",
     "output_type": "stream",
     "text": [
      "123 每位数相加之和是: 6\n"
     ]
    }
   ],
   "source": [
    "###day001第二题\n",
    "def nnn(num):  #定义\n",
    "    return sum(int(i) for i in str(num) if i.isdigit())  #返回定义内的变量，for循环，将i变为int型\n",
    "     \n",
    "if __name__ == '__main__':\n",
    "    num = input('请输入一个整数: ')  #输入框\n",
    "    print('{} 每位数相加之和是: {}'.format(num, nnn(num)))  #打印括号内内容"
   ]
  },
  {
   "cell_type": "code",
   "execution_count": 8,
   "metadata": {},
   "outputs": [
    {
     "name": "stdout",
     "output_type": "stream",
     "text": [
      "输入的三个整数为: 123 56 97\n",
      "升序排列: 56 97 123\n"
     ]
    }
   ],
   "source": [
    "###day001第三题\n",
    "def number(num01,num02,num03):  #定义\n",
    "    print('输入的三个整数为:',num01  ,num02  , num03)  #打印输入的三个数\n",
    "    if num01>num02:  #用if判断是否符合判定条件\n",
    "        if num02>num03:  #用if判断是否符合判定条件\n",
    "            print('升序排列:',num03 ,num02 ,  num01)  #打印括号内内容\n",
    "        else:\n",
    "            if num01>num03:  #用if判断是否符合判定条件\n",
    "                print('升序排列:',num02 , num03 ,  num01)  #打印括号内内容\n",
    "            else:\n",
    "                print('升序排列:',num02 , num01 ,  num03)  #打印括号内内容\n",
    "    else:\n",
    "        if num01>num03:  #用if判断是否符合判定条件\n",
    "            print('升序排列:',num03 , num01 ,  num02)  #打印括号内内容\n",
    "        else:\n",
    "            if num02>num03:  #用if判断是否符合判定条件\n",
    "                print('升序排列:',num01 , num03 , num02)  #打印括号内内容\n",
    "            else:\n",
    "                print('升序排列:',num01 , num02 , num03)  #打印括号内内容\n",
    "number(123,56,97)"
   ]
  },
  {
   "cell_type": "code",
   "execution_count": 9,
   "metadata": {},
   "outputs": [
    {
     "name": "stdout",
     "output_type": "stream",
     "text": [
      "[54, 89, 234]\n"
     ]
    }
   ],
   "source": [
    "###day001第三题\n",
    "def number(num01,num02,num03):  #定义\n",
    "    res = [num01,num02,num03]\n",
    "    res.sort()\n",
    "    print(res)  #打印括号内内容\n",
    "number(234,54,89)"
   ]
  },
  {
   "cell_type": "code",
   "execution_count": 33,
   "metadata": {},
   "outputs": [
    {
     "name": "stdout",
     "output_type": "stream",
     "text": [
      "1 10900.0\n",
      "2 11881.0\n",
      "3 12950.29\n",
      "4 14115.8161\n",
      "5 15386.239549\n",
      "6 16771.00110841\n",
      "7 18280.3912081669\n",
      "8 19925.62641690192\n",
      "9 21718.932794423094\n",
      "10 23673.636745921172\n",
      "11 25804.264053054078\n",
      "12 28126.647817828944\n",
      "13 30658.04612143355\n",
      "14 33417.27027236257\n",
      "15 36424.8245968752\n",
      "16 39703.05881059397\n",
      "17 43276.33410354742\n",
      "18 47171.20417286669\n",
      "19 51416.61254842469\n",
      "20 56044.10767778291\n",
      "21 61088.07736878337\n",
      "22 66586.00433197388\n",
      "23 72578.74472185153\n",
      "24 79110.83174681816\n",
      "25 86230.8066040318\n",
      "26 93991.57919839465\n",
      "27 102450.82132625018\n",
      "28 111671.3952456127\n",
      "29 121721.82081771785\n",
      "30 132676.78469131247\n"
     ]
    }
   ],
   "source": [
    "###day001第四题\n",
    "def futureInvestmentValue(bj,ll,years):  #定义\n",
    "    years = years+1\n",
    "    for i in range(1,years):   #for循环，前闭后开\n",
    "        sy = bj + bj*ll\n",
    "        print(i,sy)  #打印括号内内容\n",
    "        bj=sy\n",
    "        \n",
    "futureInvestmentValue(10000,0.09,30)\n"
   ]
  },
  {
   "cell_type": "code",
   "execution_count": 10,
   "metadata": {},
   "outputs": [
    {
     "name": "stdout",
     "output_type": "stream",
     "text": [
      "1 2 3 4 5 6 7 8 9 :\n",
      "; < = > ? @ A B C D\n",
      "E F G H I J K L M N\n",
      "O P Q R S T U V W X\n",
      "Y Z "
     ]
    }
   ],
   "source": [
    "###day001第五题\n",
    "m = 0\n",
    "for i in range(49,91):   #for循环，前闭后开\n",
    "    m = m+1\n",
    "    if m % 10 != 0:  #用if判断是否符合判定条件\n",
    "        print(chr(i),end=' ')  #打印括号内内容\n",
    "    else:\n",
    "        print(chr(i))  #打印括号内内容\n",
    "        "
   ]
  },
  {
   "cell_type": "code",
   "execution_count": 11,
   "metadata": {},
   "outputs": [
    {
     "name": "stdout",
     "output_type": "stream",
     "text": [
      "2019 本年度共有365天\n"
     ]
    }
   ],
   "source": [
    "###day001第六题\n",
    "def hahaha(a):  #定义\n",
    "    if a%4 == 0:  #用if判断是否符合判定条件\n",
    "        if a%100 != 0:  #用if判断是否符合判定条件\n",
    "            print('本年度共有366天')  #打印括号内内容\n",
    "        else:\n",
    "            print('本年度共有365天')  #打印括号内内容\n",
    "    else:\n",
    "        print(a,'本年度共有365天')  #打印括号内内容\n",
    "hahaha(2019)"
   ]
  },
  {
   "cell_type": "code",
   "execution_count": 12,
   "metadata": {},
   "outputs": [
    {
     "name": "stdout",
     "output_type": "stream",
     "text": [
      "13.038404810405298\n"
     ]
    }
   ],
   "source": [
    "###day001第七题\n",
    "import math  #引入包\n",
    "def lalala(x1,x2,y1,y2):  #定义\n",
    "    a = (x1+x2) ** 2 + (y1+y2) ** 2\n",
    "    b = math.sqrt(a)\n",
    "    print(b)  #打印括号内内容\n",
    "lalala(3,4,5,6)"
   ]
  },
  {
   "cell_type": "code",
   "execution_count": 2,
   "metadata": {},
   "outputs": [
    {
     "name": "stdout",
     "output_type": "stream",
     "text": [
      "2 3\n",
      "3 7\n",
      "5 31\n",
      "7 127\n",
      "11 2047\n",
      "13 8191\n",
      "17 131071\n",
      "19 524287\n",
      "23 8388607\n",
      "29 536870911\n",
      "31 2147483647\n"
     ]
    }
   ],
   "source": [
    "###day001第八题\n",
    "def msss(a):  #定义\n",
    "    b = pow(2,a)-1\n",
    "    c = 2\n",
    "    if a==2:  #用if判断是否符合判定条件\n",
    "        print(a,b)  #打印括号内内容\n",
    "    for i in range(2,a):   #for循环，前闭后开\n",
    "        c = c + 1\n",
    "        if a%i == 0:  #用if判断是否符合判定条件\n",
    "            break\n",
    "        if c == a:  #用if判断是否符合判定条件\n",
    "            print(a,b)  #打印括号内内容\n",
    "                \n",
    "for a in range(1,32):\n",
    "    msss(a)\n",
    "                "
   ]
  },
  {
   "cell_type": "code",
   "execution_count": 13,
   "metadata": {},
   "outputs": [
    {
     "name": "stdout",
     "output_type": "stream",
     "text": [
      "毫秒数： 1565177670.806776\n",
      "当前时间：  2019.08.07 19:34:30 \n"
     ]
    }
   ],
   "source": [
    "###day001第九题\n",
    "import time  #引入包\n",
    "a=time.time()\n",
    "print('毫秒数：',a)  #打印括号内内容\n",
    "print(\"当前时间： \",time.strftime('%Y.%m.%d %H:%M:%S ',time.localtime(time.time())))  #打印括号内内容"
   ]
  },
  {
   "cell_type": "code",
   "execution_count": 14,
   "metadata": {},
   "outputs": [
    {
     "name": "stdout",
     "output_type": "stream",
     "text": [
      "欢迎来到掷骰子游戏\n",
      "输入  掷骰子  开始游戏\n",
      "第一个骰子点数为： 3\n",
      "第二个骰子点数为： 3\n",
      "两个骰子点数之和为： 6\n",
      "输入  掷骰子  继续游戏\n",
      "第一个骰子点数为： 5\n",
      "第二个骰子点数为： 3\n",
      "两个骰子点数之和为： 8\n",
      "平局\n"
     ]
    }
   ],
   "source": [
    "###day001第十题\n",
    "import numpy as np  #引入包\n",
    "print('欢迎来到掷骰子游戏')\n",
    "class zzz(object):\n",
    "    def ttt(self):  #定义\n",
    "        print('输入  掷骰子  开始游戏')\n",
    "        s = input('>>>')\n",
    "        a = np.random.choice([1,2,3,4,5,6])\n",
    "        b = np.random.choice([1,2,3,4,5,6])\n",
    "        p = a+b\n",
    "        print('第一个骰子点数为：',a)  #打印括号内内容\n",
    "        print('第二个骰子点数为：',b)  #打印括号内内容\n",
    "        print('两个骰子点数之和为：',p)  #打印括号内内容\n",
    "        if a+b==2 and a+b==3 and a+b==12:  #用if判断是否符合判定条件\n",
    "            print('恭喜您，您赢了！')  #打印括号内内容\n",
    "        elif a+b==7 and a+b==11:\n",
    "            print('很遗憾，您输了！')  #打印括号内内容\n",
    "        else:\n",
    "                print('输入  掷骰子  继续游戏')\n",
    "                x = input('>>>')\n",
    "                c = np.random.choice([1,2,3,4,5,6])\n",
    "                d = np.random.choice([1,2,3,4,5,6])\n",
    "                q = c+d\n",
    "                print('第一个骰子点数为：',c)  #打印括号内内容\n",
    "                print('第二个骰子点数为：',d)  #打印括号内内容\n",
    "                print('两个骰子点数之和为：',q)  #打印括号内内容\n",
    "                if c+d==7 and c+d==a+b:  #用if判断是否符合判定条件\n",
    "                    if c+d==7:\n",
    "                        print('很遗憾，您输了！')  #打印括号内内容\n",
    "                    else:\n",
    "                        print('恭喜您，您赢了！')  #打印括号内内容\n",
    "                    \n",
    "                else:\n",
    "                        print('平局')  #打印括号内内容\n",
    "            \n",
    "            \n",
    "        \n",
    "        \n",
    "        \n",
    "        \n",
    "\n",
    "oppo=zzz()\n",
    "oppo.ttt()"
   ]
  },
  {
   "cell_type": "code",
   "execution_count": 15,
   "metadata": {},
   "outputs": [
    {
     "name": "stdout",
     "output_type": "stream",
     "text": [
      "欢迎来到王者荣耀\n",
      "可选择模式：人机模式  匹配模式  排位模式\n",
      "排位模式\n",
      "可选择英雄：典韦  赵云  鲁班\n",
      "赵云--攻击：1000     防御：5000\n",
      "敌方选择\n",
      "赵云--攻击：1000     防御：5000\n",
      "请选择：开始游戏 退出游戏\n",
      "载入游戏中，请稍后...\n"
     ]
    }
   ],
   "source": [
    "###day001王者荣耀\n",
    "print('欢迎来到王者荣耀')  #打印“欢迎来到王者荣耀”\n",
    "import time  #引入包\n",
    "import numpy as np  #引入包\n",
    "class www(object):  \n",
    "    def __init__(self):  #定义\n",
    "        print('可选择模式：人机模式  匹配模式  排位模式')  #打印括号内内容\n",
    "        a = input('>>>')  #输入框\n",
    "        print(a)  #打印括号内内容\n",
    "    def zzz(self):  #定义\n",
    "        print('可选择英雄：典韦  赵云  鲁班')  #打印括号内内容\n",
    "        b = input('>>>')  #输入框\n",
    "        if b == ('典韦'):  #if语句\n",
    "            print('典韦--攻击：100     防御：20000')  #打印括号内内容\n",
    "        elif b == ('赵云'):\n",
    "            print('赵云--攻击：1000     防御：5000')  #打印括号内内容\n",
    "        elif b == ('鲁班'):\n",
    "            print('鲁班--攻击：1500     防御：2000')  #打印括号内内容\n",
    "        else:\n",
    "            print('系统出错，请重试')  #打印括号内内容\n",
    "            \n",
    "        print('敌方选择')  #打印括号内内容        \n",
    "        c = np.random.choice(['典韦--攻击：100     防御：20000','赵云--攻击：1000     防御：5000','鲁班--攻击：1500     防御：2000'])\n",
    "        #随机选择括号内''内内容\n",
    "        print(c)  #打印括号内内容\n",
    "        \n",
    "    def rrr(self):  #定义\n",
    "        print('请选择：开始游戏 退出游戏')  #打印括号内内容\n",
    "        d = input('>>>')  #输入框\n",
    "        if d == ('开始游戏'):  #if语句\n",
    "            print('载入游戏中，请稍后...')  #打印括号内内容\n",
    "            for i in range(1,101):  #循环一百次，从1到100依次赋值\n",
    "                time.sleep(0.1)  #0.1s运行一次\n",
    "                print('%s%d%% \\r'%('>'*i,i),end='',flush=True)  #打印括号内内容\n",
    "        else:\n",
    "            print('系统出错，请重试')  #打印括号内内容\n",
    "        \n",
    "    \n",
    "oppo=www()\n",
    "oppo.zzz()\n",
    "oppo.rrr()"
   ]
  },
  {
   "cell_type": "code",
   "execution_count": 4,
   "metadata": {},
   "outputs": [
    {
     "name": "stdout",
     "output_type": "stream",
     "text": [
      "矩形的宽为： 1\n",
      "矩形的高为： 2\n",
      "矩形的面积为： 2\n",
      "矩形的周长为： 6\n"
     ]
    }
   ],
   "source": [
    "###day002第一题\n",
    "class dyt(object):\n",
    "    def __init__(self,width,height):  #定义\n",
    "        area = width * height\n",
    "        perimeter = 2 * (width + height)\n",
    "        print('矩形的宽为：',width)  #打印括号内内容\n",
    "        print('矩形的高为：',height)  #打印括号内内容\n",
    "        print('矩形的面积为：',area)  #打印括号内内容\n",
    "        print('矩形的周长为：',perimeter)  #打印括号内内容\n",
    "        \n",
    "ll=dyt(1,2)"
   ]
  },
  {
   "cell_type": "code",
   "execution_count": 5,
   "metadata": {},
   "outputs": [
    {
     "name": "stdout",
     "output_type": "stream",
     "text": [
      "请登录账户ID\n",
      "登录成功\n",
      "账户余额为：$20000.000    年息为：$900.000\n",
      "您可输入0取出$2500.000\n",
      "您可输入1存入$3000.000\n",
      "存入成功！账户余额为$23000.000\n",
      "月利率为：0.375%\n",
      "月利息为：$86.250\n"
     ]
    }
   ],
   "source": [
    "###day002第二题\n",
    "class det(object):    \n",
    "    def ssb(self):  #定义\n",
    "        print('请登录账户ID')  #打印括号内内容\n",
    "        \n",
    "        id = 1122\n",
    "        for _ in range(3):   #for循环，前闭后开\n",
    "            a = int(input('ID：'))\n",
    "            if a == id:  #用if判断是否符合判定条件\n",
    "                print('登录成功')  #打印括号内内容\n",
    "                oo.ssd()\n",
    "                break\n",
    "            else:\n",
    "                print('账户不存在，请重试')  #打印括号内内容\n",
    "                \n",
    "    def ssd(self):  #定义\n",
    "        print('账户余额为：$20000.000    年息为：$900.000')  #打印括号内内容\n",
    "        print('您可输入0取出$2500.000')  #打印括号内内容\n",
    "        print('您可输入1存入$3000.000')  #打印括号内内容\n",
    "        \n",
    "        b = int(input('请选择0或1'))\n",
    "        if b == 0:  #用if判断是否符合判定条件\n",
    "            print('取出成功！账户余额为$17500.000')  #打印括号内内容\n",
    "            print('月利率为：0.375%')  #打印括号内内容\n",
    "            print('月利息为：$65.625')  #打印括号内内容\n",
    "            \n",
    "        elif b == 1:\n",
    "            print('存入成功！账户余额为$23000.000')  #打印括号内内容\n",
    "            print('月利率为：0.375%')  #打印括号内内容\n",
    "            print('月利息为：$86.250')  #打印括号内内容\n",
    "                \n",
    "        else:\n",
    "            print('非法操作!请重试')  #打印括号内内容\n",
    "                \n",
    "                \n",
    "                                              \n",
    "oo = det()\n",
    "oo.ssb()"
   ]
  },
  {
   "cell_type": "code",
   "execution_count": 19,
   "metadata": {},
   "outputs": [
    {
     "name": "stdout",
     "output_type": "stream",
     "text": [
      "FAST False 10 yellow\n",
      "MEDIUM True 5 blue\n"
     ]
    }
   ],
   "source": [
    "###day002第三题\n",
    "class Fan(object):\n",
    "    def fs(self,speed,on,radius,color):  #定义\n",
    "        self.__speed=speed\n",
    "        self.__on=on\n",
    "        self.__radius=radius\n",
    "        self.__color=color\n",
    "    def re(self):  #定义\n",
    "        if self.__speed==1:  #用if判断是否符合判定条件\n",
    "            a='SLOW'\n",
    "        elif self.__speed==2:\n",
    "            a='MEDIUM'\n",
    "        else:\n",
    "            a='FAST'\n",
    "        print(a,self.__on,self.__radius,self.__color)  #打印括号内内容\n",
    "kq=Fan()\n",
    "kq.fs(3,False,10,'yellow')\n",
    "kq.re()\n",
    "kq.fs(2,True,5,'blue')\n",
    "kq.re()\n",
    "        "
   ]
  },
  {
   "cell_type": "code",
   "execution_count": 28,
   "metadata": {},
   "outputs": [
    {
     "name": "stdout",
     "output_type": "stream",
     "text": [
      "多边形的周长为： 40\n",
      "多边形的面积为： 46.16525305762881\n"
     ]
    }
   ],
   "source": [
    "###day002第四题\n",
    "import math  #引入包\n",
    "class RegularPolygon(object):\n",
    "    def __init__(self):  #定义\n",
    "        self.__n=3\n",
    "        self.__side=1\n",
    "        self.__x=0\n",
    "        self.__y=0\n",
    "    def zdy(self,n,side,x,y):  #定义\n",
    "        self.__n=n\n",
    "        self.__side=side\n",
    "        self.__x=x\n",
    "        self.__y=y\n",
    "        getPerimeter=self.__n * self.__side\n",
    "        getArea=(((self.__side)^2) * self.__n)/(4*(math.tan(math.pi/self.__n)))\n",
    "        print('多边形的周长为：',getPerimeter)  #打印括号内内容\n",
    "        print('多边形的面积为：',getArea)  #打印括号内内容\n",
    "        \n",
    "        \n",
    "la=RegularPolygon()\n",
    "la.zdy(10,4,5.6,7.8)\n",
    "#la=RegularPolygon()\n",
    "#la.zdy()\n",
    "#la=RegularPolygon()\n",
    "#la.zdy()"
   ]
  },
  {
   "cell_type": "code",
   "execution_count": 30,
   "metadata": {},
   "outputs": [
    {
     "name": "stdout",
     "output_type": "stream",
     "text": [
      "方程的解为：x = -4.0 y = 4.5\n"
     ]
    }
   ],
   "source": [
    "###day002第五题\n",
    "class LinearEquation(object):\n",
    "    def hehe(self,a,b,c,d,e,f):  #定义\n",
    "        x = (e*d - b*f)/(a*d - b*c)\n",
    "        y = (a*f - e*c)/(a*d - b*c)\n",
    "        e = a*x + b*y\n",
    "        f = c*x + d*y \n",
    "        z = a*d - b*c\n",
    "        if z==0:  #用if判断是否符合判定条件\n",
    "            print('这个方程无解')  #打印括号内内容\n",
    "        else:\n",
    "            print('方程的解为：x =',x,'y =',y)  #打印括号内内容\n",
    "qq=LinearEquation()\n",
    "qq.hehe(1,2,3,4,5,6)"
   ]
  },
  {
   "cell_type": "code",
   "execution_count": 1,
   "metadata": {},
   "outputs": [
    {
     "data": {
      "text/plain": [
       "(2.0, 3.0)"
      ]
     },
     "execution_count": 1,
     "metadata": {},
     "output_type": "execute_result"
    }
   ],
   "source": [
    "###002第六题\n",
    "import numpy as np  #引入包\n",
    "def get_crossing(s1,s2):  #定义\n",
    "    xa,ya = s1[0][0],s1[0][1]\n",
    "    xb,yb = s1[1][0],s1[1][1]\n",
    "    xc,yc = s2[0][0],s2[0][1]\n",
    "    xd,yd = s2[1][0],s2[1][1]\n",
    "    #判断两条直线是否相交，矩阵行列式计算\n",
    "    a = np.matrix(\n",
    "        [\n",
    "            [xb-xa,-(xd-xc)],\n",
    "            [yb-ya,-(yd-yc)]\n",
    "        ]\n",
    "    )\n",
    "    delta = np.linalg.det(a)\n",
    "    #不相交,返回两线段\n",
    "    if np.fabs(delta) < 1e-6:\n",
    "        print(delta)  #打印括号内内容\n",
    "        return None        \n",
    "    #求两个参数lambda和miu\n",
    "    c = np.matrix(\n",
    "        [\n",
    "            [xc-xa,-(xd-xc)],\n",
    "            [yc-ya,-(yd-yc)]\n",
    "        ]\n",
    "    )\n",
    "    d = np.matrix(\n",
    "        [\n",
    "            [xb-xa,xc-xa],\n",
    "            [yb-ya,yc-ya]\n",
    "        ]\n",
    "    )\n",
    "    lamb = np.linalg.det(c)/delta\n",
    "    miu = np.linalg.det(d)/delta\n",
    "    #相交\n",
    "    if lamb <= 1 and lamb >= 0 and miu >= 0 and miu <= 1:\n",
    "        x = xc + miu*(xd-xc)\n",
    "        y = yc + miu*(yd-yc)\n",
    "        return (x,y)\n",
    "    #相交在延长线上\n",
    "    else:\n",
    "        return None\n",
    "get_crossing(((1,2),(3,4)),((1,4),(2,3)))"
   ]
  },
  {
   "cell_type": "code",
   "execution_count": 2,
   "metadata": {},
   "outputs": [
    {
     "name": "stdout",
     "output_type": "stream",
     "text": [
      "方程的解为：x = 0.4 y = 0.7\n"
     ]
    }
   ],
   "source": [
    "###day002第七题\n",
    "class LinearEquation(object):\n",
    "    def hehe(self,a,b,c,d,e,f):  #定义\n",
    "        x = (e*d - b*f)/(a*d - b*c)\n",
    "        y = (a*f - e*c)/(a*d - b*c)\n",
    "        e = a*x + b*y\n",
    "        f = c*x + d*y \n",
    "        z = a*d - b*c\n",
    "        if z==0:  #用if判断是否符合判定条件\n",
    "            print('这个方程无解')  #打印括号内内容\n",
    "        else:\n",
    "            print('方程的解为：x =',x,'y =',y)  #打印括号内内容\n",
    "qq=LinearEquation()\n",
    "qq.hehe(9,2,8,4,5,6)"
   ]
  },
  {
   "cell_type": "code",
   "execution_count": 1,
   "metadata": {},
   "outputs": [
    {
     "name": "stdout",
     "output_type": "stream",
     "text": [
      "密码必须包含大小写字母和数字\n",
      "密码必须包含大小写字母和数字\n",
      "密码必须包含大小写字母和数字\n",
      "密码格式正确\n"
     ]
    }
   ],
   "source": [
    "###检验密码\n",
    "import re  #引入包\n",
    "for i in range(5):\n",
    "    pwd = input(\"请输入您的密码:\")\n",
    "    if len(pwd) <5 and len(pwd) >18:\n",
    "        print(\"密码长度为5到18位\")  #打印括号内内容\n",
    "    else:\n",
    "        if re.match(\"^(?:(?=.*[A-Z])(?=.*[a-z])(?=.*[0-9])).*$\",pwd)==None:\n",
    "            \n",
    "            print('密码必须包含大小写字母和数字')  #打印括号内内容\n",
    "            \n",
    "        else:\n",
    "            print (\"密码格式正确\")  #打印括号内内容\n",
    "            break  #满足条件后循环结束\n",
    "            \n",
    "else:\n",
    "    print(\"您今天最多可以输错五次\")  #打印括号内内容"
   ]
  },
  {
   "cell_type": "code",
   "execution_count": null,
   "metadata": {},
   "outputs": [],
   "source": [
    "#下载图片的时候,response.text ==> response.content\n",
    "#with open( mode='wb') == > open(mode='wb')\n",
    "#将所有的图片下载到本地一个文件夹内.\n",
    "\n",
    "from multiprocessing import Process  #引入包\n",
    "from random import randint  #引入包\n",
    "from time import time, sleep  #引入包\n",
    "import os  #引入包\n",
    "\n",
    "def download_page(start,end):  #定义一个类\n",
    "    for i in range(start,end):  #for循环\n",
    "        url = 'http://op.hanhande.net/shtml/op_wz/list_2602_%d.shtml'%i  #获取图片的网址\n",
    "        response = requests.get(url)\n",
    "        response.encoding = 'gbk'  #图片格式gbk\n",
    "        # HTML = response.text\n",
    "        print(response.status_code)  #打印括号内内容\n",
    "        \n",
    "def save_img(self,url, file_name, file_path='drug_specification'):  #定义一个类\n",
    "    try:\n",
    "        \n",
    "        if not os.path.exists(file_path):  #用if判断是否符合判定条件\n",
    "            \n",
    "            print ('文件夹', file_path, '不存在，重新建立')  #打印括号内内容\n",
    "　　　　# os.mkdir(file_path)\n",
    "            os.makedirs(file_path)  # 获得图片后缀\n",
    "            file_suffix = os.path.splitext(url)[1]  # 拼接图片名（包含路径）\n",
    "            filename = '{}{}{}{}'.format(file_path, os.sep, file_name['drug_name'].encode('utf-8'), file_suffix)  # 下载图片，并保存到文件夹中\n",
    "            urllib.urlretrieve(url, filename=filename)\n",
    "\n",
    "\n",
    "def main():  #定义一个类\n",
    "    p1 = Process(target=download_page,args=(1,15))\n",
    "    p2 = Process(target=download_page,args=(15,28))\n",
    "    # 开启两个多进程，     函数名              传递的参数,需要注意的是,它接受的是一个元组(tuple)\n",
    "    print('%s will be start...'%p1.name)  #打印括号内内容\n",
    "    print('%s will be start...'%p2.name)  #打印括号内内容\n",
    "\n",
    "    p1.start()  #启动进程1\n",
    "    p2.start()  #启动进程2\n",
    "    print('第一个进程号:%s'%p1.pid)  #打印第一个进程号\n",
    "    print('第二个进程号:%s'%p2.pid)  #打印第二个进程号\n",
    "    p1.join()  #进程阻塞.1\n",
    "    p2.join()  #进程阻塞.2\n",
    "\n",
    "    end = time()\n",
    "    print('总共耗时%.2f '%(end-start))  #打印进程总用时\n",
    "    print('当前主进程已关闭:%s'%os.getpid)  #打印括号内内容\n",
    "    print('第一个进程已关闭:%s'%p1.name)  #打印括号内内容\n",
    "    print('第二个进程已关闭:%s'%p2.name)  #打印括号内内容\n",
    "\n",
    "if __name__ == \"__main__\":\n",
    "    main()\n",
    "    "
   ]
  },
  {
   "cell_type": "code",
   "execution_count": null,
   "metadata": {},
   "outputs": [],
   "source": [
    "from multiprocessing import Process  #引入包\n",
    "from random import randint  #引入包\n",
    "from time import time, sleep  #引入包\n",
    "import os  #引入包\n",
    "\n",
    "\n",
    "def download_task(filename):  #定义一个类\n",
    "    print('开始下载%s' % filename)  #打印括号内内容\n",
    "    time_to_download = randint(5, 10)  #随机5-10秒\n",
    "    sleep(time_to_download)  #睡眠随机的秒数\n",
    "    print('%s 下载完成,经过%d秒' % (filename, time_to_download))  #打印括号内内容\n",
    "\n",
    "\n",
    "def main():  #定义一个类\n",
    "    print('当前主进程pid是:%d'%os.getpid())\n",
    "    start = time()\n",
    "    # 开启两个多进程，     函数名              传递的参数,需要注意的是,它接受的是一个元组(tuple)\n",
    "    p1 = Process(target=download_task, args=('数学之丑.mp4', ))\n",
    "    p2 = Process(target=download_task, args=('python从入门到放弃.mp5', ))\n",
    "    # 获取进程号\n",
    "    print('第一个进程:%s已经启动'%p1.name)  #打印第一个进程启动\n",
    "    print('第二个进程:%s已经启动'%p2.name)  #打印第二个进程启动\n",
    "    # 启动进程\n",
    "    p1.start()\n",
    "    p2.start()\n",
    "    print('第一个进程号:%s'%p1.pid)  #打印第一个进程号\n",
    "    print('第二个进程号:%s'%p2.pid)  #打印第一个进程号\n",
    "    ##############\n",
    "    # 进程阻塞.\n",
    "    p1.join()\n",
    "    p2.join()\n",
    "    ##############\n",
    "    end = time()\n",
    "    print('总共耗时%.2f '%(end-start))  #打印括号内内容\n",
    "    print('当前主进程已关闭:%s'%os.getpid)  #打印括号内内容\n",
    "    print('第一个进程已关闭:%s'%p1.name)  #打印括号内内容\n",
    "    print('第二个进程已关闭:%s'%p2.name)  #打印括号内内容\n",
    "   \n",
    "\n",
    "\n",
    "if __name__ == '__main__':\n",
    "    main()\n"
   ]
  },
  {
   "cell_type": "code",
   "execution_count": null,
   "metadata": {},
   "outputs": [],
   "source": [
    "#用类封装3个功能\n",
    "#wxpy: 用 Python 玩微信\n",
    "#1.对于特定好友自动回复,文本和图片.\n",
    "#2.封装一个统计微信中性别数量和总人数的比例,男生的比例,女的比例,未知性别比例\n",
    "#3.统计你的好友都属于哪个省份并绘制直方图.\n",
    "\n",
    "from wxpy import *\n",
    "bot = Bot()\n",
    "my_friend = bot.friends().search('阳')[0]\n",
    "boring_group = bot.groups().search('收购阿里讨论组')[0]\n",
    "@bot.register([my_friend,Group], TEXT)\n",
    "def auto_reply(msg):\n",
    "    if isinstance(msg.chat, Group) and not msg.is_at:\n",
    "        return\n",
    "    else:\n",
    "        return '您好，我现在有事不在，稍后会联系您'.format(msg.text, msg.type)\n"
   ]
  }
 ],
 "metadata": {
  "kernelspec": {
   "display_name": "Python 3",
   "language": "python",
   "name": "python3"
  },
  "language_info": {
   "codemirror_mode": {
    "name": "ipython",
    "version": 3
   },
   "file_extension": ".py",
   "mimetype": "text/x-python",
   "name": "python",
   "nbconvert_exporter": "python",
   "pygments_lexer": "ipython3",
   "version": "3.6.4"
  }
 },
 "nbformat": 4,
 "nbformat_minor": 2
}
